{
 "cells": [
  {
   "cell_type": "code",
   "execution_count": null,
   "metadata": {},
   "outputs": [],
   "source": [
    "import pyspark\n",
    "sc = pyspark.SparkContext('local[*]')"
   ]
  },
  {
   "cell_type": "code",
   "execution_count": null,
   "metadata": {},
   "outputs": [],
   "source": [
    "import numpy as np\n",
    "import functools\n",
    "from functools import reduce\n",
    "from scipy.stats import kurtosis, skew\n",
    "import pandas as pd\n",
    "import seaborn as sns\n",
    "import matplotlib.pyplot as plt\n",
    "from scipy import stats"
   ]
  },
  {
   "cell_type": "markdown",
   "metadata": {},
   "source": [
    "# Statistics with PySpark and RDDs"
   ]
  },
  {
   "cell_type": "markdown",
   "metadata": {},
   "source": [
    "In this exercise we will use imperative programming with Python to compute from a list of  N integers:\n",
    "\n",
    "   - The mean - the first moment\n",
    "   \n",
    "   $\\mu = \\frac{1}{N} \\sum_{i=1}^N x_i.$\n",
    "        \n",
    "        \n",
    "  \n",
    "   - The standard deviation - second moment\n",
    "  \n",
    "   $\\sigma = \\sqrt{\\frac{1}{N} \\sum_{i=1}^N (x_i - \\mu)^2}$\n",
    "        \n",
    "        \n",
    "        \n",
    "   - The skew  - the third moment\n",
    "   \n",
    "   $\\gamma_1 = \\frac{1}{N} \\sum_{i=1}^N \\left[\\frac{x_i - \\mu}{\\sigma}\\right]^3$\n",
    "        \n",
    "        \n",
    "        \n",
    "   - The kurtosis - the fourth moment\n",
    "  \n",
    "   $\\gamma_2 = \\Big\\{   \\frac{1}{N} \\sum_{i=1}^N \\left[\\frac{x_i - \\mu}{\\sigma}\\right]^4  \\Big\\} - 3$\n",
    "      "
   ]
  },
  {
   "cell_type": "code",
   "execution_count": null,
   "metadata": {},
   "outputs": [],
   "source": [
    "def test_assert():\n",
    "    \"\"\"Test that assert is working.\n",
    "\n",
    "    Args:\n",
    "        None\n",
    "    Returns:\n",
    "        x with value 5\n",
    "    \"\"\"\n",
    "    x = 5\n",
    "    assert x == 5\n",
    "    return x\n",
    "    \n",
    "y = test_assert() \n",
    "assert y == 5"
   ]
  },
  {
   "cell_type": "markdown",
   "metadata": {},
   "source": [
    "# Define test data set X"
   ]
  },
  {
   "cell_type": "code",
   "execution_count": null,
   "metadata": {},
   "outputs": [],
   "source": [
    "# Python variables can be capital letters\n",
    "np.random.seed(5)\n",
    "X = np.random.normal(size=100)\n",
    "sns.set(color_codes=True)\n",
    "sns.distplot(X)\n",
    "print(X)"
   ]
  },
  {
   "cell_type": "markdown",
   "metadata": {},
   "source": [
    "# Convert a list into an RDD\n"
   ]
  },
  {
   "cell_type": "code",
   "execution_count": null,
   "metadata": {},
   "outputs": [],
   "source": [
    "rdd = sc.parallelize(X)\n",
    "rdd.takeSample(False, 5)"
   ]
  },
  {
   "cell_type": "markdown",
   "metadata": {},
   "source": [
    "# First Moment"
   ]
  },
  {
   "cell_type": "markdown",
   "metadata": {},
   "source": [
    "### Define a function, first_moment_term, to  compute the MEAN\n",
    "\n",
    " $\\mu = \\frac{1}{N} \\sum_{i=1}^N x_i.$\n",
    " \n",
    " We will:\n",
    " \n",
    " 1.  Map each term of the list to the correct moment\n",
    " 2.  Sum the transformed elements over N\n",
    " "
   ]
  },
  {
   "cell_type": "markdown",
   "metadata": {},
   "source": [
    "####  Define the transformation for the first moment terms \n",
    "    hint - it is the identity "
   ]
  },
  {
   "cell_type": "code",
   "execution_count": null,
   "metadata": {
    "deletable": false,
    "nbgrader": {
     "checksum": "cba59c610d65751c715ad84d65847829",
     "grade": false,
     "grade_id": "cell-d318277d003bb957",
     "locked": false,
     "schema_version": 1,
     "solution": true
    }
   },
   "outputs": [],
   "source": [
    "def first_moment_term(x):\n",
    "    \"\"\"Define the first moment term\n",
    "\n",
    "    Args:\n",
    "        x - An element of a list - a term\n",
    "    Returns:\n",
    "        transformed term - an identity in this case, x\n",
    "    \"\"\"\n",
    "    # YOUR CODE HERE\n",
    "    raise NotImplementedError()\n",
    "    \n"
   ]
  },
  {
   "cell_type": "code",
   "execution_count": null,
   "metadata": {
    "deletable": false,
    "editable": false,
    "nbgrader": {
     "checksum": "619cf29ac078d0d5c6d8e2b4dabbf18b",
     "grade": true,
     "grade_id": "cell-625adfd90bdf28f0",
     "locked": true,
     "points": 10,
     "schema_version": 1,
     "solution": false
    }
   },
   "outputs": [],
   "source": [
    "x = 1\n",
    "\n",
    "new_term = first_moment_term(x)\n",
    "\n",
    "print(new_term)\n",
    "\n",
    "assert new_term == 1"
   ]
  },
  {
   "cell_type": "code",
   "execution_count": null,
   "metadata": {
    "deletable": false,
    "nbgrader": {
     "checksum": "b371ed2363ee1c28f518a7c34f57bc0f",
     "grade": false,
     "grade_id": "cell-77e3e45251d64d25",
     "locked": false,
     "schema_version": 1,
     "solution": true
    }
   },
   "outputs": [],
   "source": [
    "def my_mean(rdd):\n",
    "    \"\"\"Compute the mean\n",
    "\n",
    "    Args:\n",
    "        rdd - an rdd of  integers\n",
    "        \n",
    "    Returns:\n",
    "         mu - the mean of the rdd\n",
    "    \"\"\"\n",
    "    \n",
    "    # YOUR CODE HERE\n",
    "    raise NotImplementedError()\n",
    "    "
   ]
  },
  {
   "cell_type": "code",
   "execution_count": null,
   "metadata": {
    "deletable": false,
    "editable": false,
    "nbgrader": {
     "checksum": "e2b76da657bc7b5a6d6bd320a3318e14",
     "grade": true,
     "grade_id": "cell-fc9821e479fa2f9a",
     "locked": true,
     "points": 10,
     "schema_version": 1,
     "solution": false
    }
   },
   "outputs": [],
   "source": [
    "mu = my_mean(rdd)\n",
    "print(mu)\n",
    "a = np.array(list(X))\n",
    "print(np.mean(a))\n",
    "#assert mu == np.mean(a)\n",
    "assert mu - np.mean(a) <= np.finfo(np.float).eps"
   ]
  },
  {
   "cell_type": "markdown",
   "metadata": {},
   "source": [
    "# Second Moment"
   ]
  },
  {
   "cell_type": "markdown",
   "metadata": {},
   "source": [
    "### Define a function, second_moment_term, to compute the standard deviation\n",
    "\n",
    "$\\sigma = \\sqrt{\\frac{1}{N} \\sum_{i=1}^N (x_i - \\mu)^2}$\n",
    " \n",
    " We will:\n",
    " \n",
    " 1.  Map each term of the list to the correct moment\n",
    " 2.  Sum the transformed elements over N\n",
    " \n",
    " \n"
   ]
  },
  {
   "cell_type": "markdown",
   "metadata": {},
   "source": [
    "####  Define the transformation for the first moment terms \n",
    "\n",
    "$(x_i - \\mu)^2$\n",
    "   "
   ]
  },
  {
   "cell_type": "code",
   "execution_count": null,
   "metadata": {
    "deletable": false,
    "nbgrader": {
     "checksum": "b4ee43add3821db3671a327a940a10f4",
     "grade": false,
     "grade_id": "cell-2e1c47b5e605db47",
     "locked": false,
     "schema_version": 1,
     "solution": true
    }
   },
   "outputs": [],
   "source": [
    "def second_moment_term(x, mu):\n",
    "    \"\"\"Define the first moment term\n",
    "\n",
    "    Args:\n",
    "        x - An element of a list - a term\n",
    "        mu - the mean\n",
    "    Returns:\n",
    "        transformed term - an identity in this case, (x - mu)**2\n",
    "    \"\"\"\n",
    "    # YOUR CODE HERE\n",
    "    raise NotImplementedError()\n",
    "  "
   ]
  },
  {
   "cell_type": "code",
   "execution_count": null,
   "metadata": {
    "deletable": false,
    "editable": false,
    "nbgrader": {
     "checksum": "0d8200fa8e7e0f9841ea45445df5c65e",
     "grade": true,
     "grade_id": "cell-be4763d7c3f7fd13",
     "locked": true,
     "points": 10,
     "schema_version": 1,
     "solution": false
    }
   },
   "outputs": [],
   "source": [
    "val = 5\n",
    "mu = 3\n",
    "term = second_moment_term(x, mu)\n",
    "assert term == 4\n"
   ]
  },
  {
   "cell_type": "markdown",
   "metadata": {},
   "source": [
    "### Transform and reduce to get the standard deviation\n",
    "\n",
    "\n",
    "   $\\sigma = \\sqrt{\\frac{1}{N} \\sum_{i=1}^N (x_i - \\mu)^2}$\n",
    "   \n",
    "    \n",
    "   N = len(list)\n",
    "   \n",
    "   $\\mu$ is the mean\n",
    "   \n",
    "   \n",
    "##### Note:  Use Numpy for the square root  - \n",
    "\n",
    "      np.sqrt(x)\n",
    " "
   ]
  },
  {
   "cell_type": "code",
   "execution_count": null,
   "metadata": {
    "deletable": false,
    "nbgrader": {
     "checksum": "62d18178e665cf6286c34e5edcb9d724",
     "grade": false,
     "grade_id": "cell-74750a90cd96ea9f",
     "locked": false,
     "schema_version": 1,
     "solution": true
    }
   },
   "outputs": [],
   "source": [
    "def my_stdev(rdd, mu):\n",
    "    \"\"\"Define a function to compute the standard devivation for an RDD\n",
    "\n",
    "    Args:\n",
    "        rdd - a list of integers\n",
    "        mu - the mean of the rdd\n",
    "        \n",
    "    Returns:\n",
    "        the standard deviation of the list\n",
    "    \"\"\"\n",
    "    \n",
    "    # YOUR CODE HERE\n",
    "    raise NotImplementedError()\n",
    "    "
   ]
  },
  {
   "cell_type": "code",
   "execution_count": null,
   "metadata": {
    "deletable": false,
    "editable": false,
    "nbgrader": {
     "checksum": "8b8c21fa387a7e7799410b4a3984c3e0",
     "grade": true,
     "grade_id": "cell-5fc23b9fd08f3e64",
     "locked": true,
     "points": 10,
     "schema_version": 1,
     "solution": false
    }
   },
   "outputs": [],
   "source": [
    "mu = my_mean(rdd)\n",
    "print(mu)\n",
    "sigma = my_stdev(rdd, mu)\n",
    "print(sigma)\n",
    "a = np.array(list(X))\n",
    "print(np.std(a))\n",
    "assert mu - np.mean(a) <= np.finfo(np.float).eps\n",
    "assert sigma - np.std(a) <= np.finfo(np.float).eps"
   ]
  },
  {
   "cell_type": "markdown",
   "metadata": {},
   "source": [
    "# Third Moment\n",
    "\n"
   ]
  },
  {
   "cell_type": "markdown",
   "metadata": {},
   "source": [
    "## Define a function, third_moment_term, to compute the Skew\n",
    "\n",
    "$\\gamma_1 = \\frac{1}{N} \\sum_{i=1}^N \\left[\\frac{x_i - \\mu}{\\sigma}\\right]^3$\n",
    "\n",
    "We will:\n",
    "\n",
    "Map each term of the list to the correct moment\n",
    "Sum the transformed elements over N\n"
   ]
  },
  {
   "cell_type": "code",
   "execution_count": null,
   "metadata": {
    "deletable": false,
    "nbgrader": {
     "checksum": "b909eec6811efb60221742ab5f86f04b",
     "grade": false,
     "grade_id": "cell-a800fbac7de9eab8",
     "locked": false,
     "schema_version": 1,
     "solution": true
    }
   },
   "outputs": [],
   "source": [
    "def third_moment_term(x, mu, sigma):\n",
    "    \"\"\"Define the third moment term\n",
    "\n",
    "    Args:\n",
    "        x - An element of a list - a term\n",
    "        mu - the mean\n",
    "        sigma - the standard deviation\n",
    "    Returns:\n",
    "        transformed term - an identity in this case, ((x - mu)/sigma)**3\n",
    "    \"\"\"\n",
    "    # YOUR CODE HERE\n",
    "    raise NotImplementedError()\n",
    "  "
   ]
  },
  {
   "cell_type": "code",
   "execution_count": null,
   "metadata": {
    "deletable": false,
    "editable": false,
    "nbgrader": {
     "checksum": "5931e0a455e0c82e26f8829821a2e5f9",
     "grade": true,
     "grade_id": "cell-5f782f3bb800f0cd",
     "locked": true,
     "points": 10,
     "schema_version": 1,
     "solution": false
    }
   },
   "outputs": [],
   "source": [
    "x = 5\n",
    "mu = 3\n",
    "sigma = 1\n",
    "y = third_moment_term(x, mu, sigma)\n",
    "assert y == 8"
   ]
  },
  {
   "cell_type": "markdown",
   "metadata": {},
   "source": [
    "### Transform and reduce to obtain the skew\n",
    "\n",
    "\n",
    "   $\\gamma_1 = \\frac{1}{N} \\sum_{i=1}^N \\left[\\frac{x_i - \\mu}{\\sigma}\\right]^3$\n",
    "   \n",
    "    \n",
    "   N = len(list)\n",
    "   \n",
    "   $\\mu$ is the mean\n",
    "   \n",
    "   \n",
    "   $\\sigma$ is the standard deviation\n",
    "   \n",
    "   \n",
    "\n",
    " "
   ]
  },
  {
   "cell_type": "code",
   "execution_count": null,
   "metadata": {
    "deletable": false,
    "nbgrader": {
     "checksum": "3cffdd9d29cce68bee4fb478ad927cea",
     "grade": false,
     "grade_id": "cell-d19b7790d129a3c6",
     "locked": false,
     "schema_version": 1,
     "solution": true
    }
   },
   "outputs": [],
   "source": [
    "def my_skew(rdd, mu, sigma):\n",
    "    \"\"\"Compute the third moment, the skew\n",
    "\n",
    "    Args:\n",
    "        rdd - an rdd of integers\n",
    "        mu - the mean of the rdd\n",
    "        sigma - the standard deviation\n",
    "        \n",
    "    Returns:\n",
    "        the skew of the list\n",
    "    \"\"\"\n",
    "    # YOUR CODE HERE\n",
    "    raise NotImplementedError()\n",
    "    "
   ]
  },
  {
   "cell_type": "code",
   "execution_count": null,
   "metadata": {
    "deletable": false,
    "editable": false,
    "nbgrader": {
     "checksum": "3147fcc501805123dde5a4fb69af85bb",
     "grade": true,
     "grade_id": "cell-731efae948db714b",
     "locked": true,
     "points": 10,
     "schema_version": 1,
     "solution": false
    }
   },
   "outputs": [],
   "source": [
    "mu = my_mean(rdd)\n",
    "print(mu)\n",
    "sigma = my_stdev(rdd, mu)\n",
    "print(sigma)\n",
    "gamma_1 = my_skew(rdd, mu, sigma)\n",
    "print(gamma_1)\n",
    "print(skew(a))\n",
    "a = np.array(list(X))\n",
    "assert mu - np.mean(a) <= np.finfo(np.float).eps\n",
    "assert sigma - np.std(a) <= np.finfo(np.float).eps\n",
    "assert gamma_1 - skew(a) <= np.finfo(np.float).eps"
   ]
  },
  {
   "cell_type": "markdown",
   "metadata": {},
   "source": [
    "# Fourth Moment"
   ]
  },
  {
   "cell_type": "markdown",
   "metadata": {},
   "source": [
    "## Define a function, fourth_moment_term, to compute the kurtosis\n",
    "\n",
    "$\\gamma_2 = \\Big\\{   \\frac{1}{N} \\sum_{i=1}^N \\left[\\frac{x_i - \\mu}{\\sigma}\\right]^4  \\Big\\} - 3$\n",
    "\n",
    "We will:\n",
    "\n",
    "Map each term of the list to the correct moment\n",
    "Sum the transformed elements over N"
   ]
  },
  {
   "cell_type": "code",
   "execution_count": null,
   "metadata": {
    "deletable": false,
    "nbgrader": {
     "checksum": "3a7a1d87f282a13e2fb9f7fd5bd90227",
     "grade": false,
     "grade_id": "cell-84e389f02a34f97e",
     "locked": false,
     "schema_version": 1,
     "solution": true
    }
   },
   "outputs": [],
   "source": [
    "def fourth_moment_term(x, mu, sigma):\n",
    "    \"\"\"Define the fourth moment term\n",
    "\n",
    "    Args:\n",
    "        x - An element of a list - a term\n",
    "        mu - the mean\n",
    "        sigma - the standard deviation\n",
    "    Returns:\n",
    "        transformed term - an identity in this case, ((x - mu)/sigma)**4\n",
    "    \"\"\"\n",
    "    # YOUR CODE HERE\n",
    "    raise NotImplementedError()\n",
    "  "
   ]
  },
  {
   "cell_type": "code",
   "execution_count": null,
   "metadata": {
    "deletable": false,
    "editable": false,
    "nbgrader": {
     "checksum": "610ff4bf8dc387c0ed22654e38296de6",
     "grade": true,
     "grade_id": "cell-8346b727625000a9",
     "locked": true,
     "points": 10,
     "schema_version": 1,
     "solution": false
    }
   },
   "outputs": [],
   "source": [
    "x = 5\n",
    "mu = 3\n",
    "sigma = 1\n",
    "y = fourth_moment_term(x, mu, sigma)\n",
    "assert y == 16"
   ]
  },
  {
   "cell_type": "markdown",
   "metadata": {},
   "source": [
    " ### Transform and reduce to obtain the kurtosis\n",
    "\n",
    "   $g_2 = \\Big\\{   \\frac{1}{N} \\sum_{i=1}^N \\left[\\frac{x_i - \\mu}{\\sigma}\\right]^4  \\Big\\} - 3$\n",
    "\n",
    "    \n",
    "   N = len(list)\n",
    "   \n",
    "   $\\mu$ is the mean\n",
    "   \n",
    "   \n",
    "   $\\sigma$ is the standard deviation\n",
    "   "
   ]
  },
  {
   "cell_type": "code",
   "execution_count": null,
   "metadata": {
    "deletable": false,
    "nbgrader": {
     "checksum": "76ca851d9ab3445f1ce99fa468df3feb",
     "grade": false,
     "grade_id": "cell-94ce2019eb0a8e02",
     "locked": false,
     "schema_version": 1,
     "solution": true
    }
   },
   "outputs": [],
   "source": [
    "def my_kurtosis(rdd, mu, sigma):\n",
    "    \"\"\"Define the fourth moment, the kurtosis\n",
    "\n",
    "    Args:\n",
    "        rdd - an rdd of integers\n",
    "        mu - the mean of the list\n",
    "        sigma - the standard deviation\n",
    "        \n",
    "    Returns:\n",
    "        the skew of the list\n",
    "    \"\"\"\n",
    "    \n",
    "    # YOUR CODE HERE\n",
    "    raise NotImplementedError()\n",
    "    "
   ]
  },
  {
   "cell_type": "code",
   "execution_count": null,
   "metadata": {
    "deletable": false,
    "editable": false,
    "nbgrader": {
     "checksum": "421a120d7e56839e2268090e508ad1d6",
     "grade": true,
     "grade_id": "cell-2f070d669218c9e7",
     "locked": true,
     "points": 10,
     "schema_version": 1,
     "solution": false
    }
   },
   "outputs": [],
   "source": [
    "mu = my_mean(rdd)\n",
    "print(mu)\n",
    "sigma = my_stdev(rdd, mu)\n",
    "print(sigma)\n",
    "gamma_1 = my_skew(rdd, mu, sigma)\n",
    "print(gamma_1)\n",
    "gamma_2 = my_kurtosis(rdd, mu, sigma)\n",
    "print(gamma_2)\n",
    "a = np.array(list(X))\n",
    "assert mu - np.mean(a) <= np.finfo(np.float).eps\n",
    "assert sigma - np.std(a) <= np.finfo(np.float).eps\n",
    "assert gamma_1 - skew(a) <= np.finfo(np.float).eps\n",
    "assert gamma_2 - kurtosis(a) < np.finfo(np.float32).eps\n",
    "print(\"Congratulations you passed!\")\n"
   ]
  },
  {
   "cell_type": "code",
   "execution_count": null,
   "metadata": {},
   "outputs": [],
   "source": []
  }
 ],
 "metadata": {
  "kernelspec": {
   "display_name": "Python 3",
   "language": "python",
   "name": "python3"
  },
  "language_info": {
   "codemirror_mode": {
    "name": "ipython",
    "version": 3
   },
   "file_extension": ".py",
   "mimetype": "text/x-python",
   "name": "python",
   "nbconvert_exporter": "python",
   "pygments_lexer": "ipython3",
   "version": "3.6.7"
  },
  "latex_envs": {
   "LaTeX_envs_menu_present": true,
   "autoclose": false,
   "autocomplete": true,
   "bibliofile": "biblio.bib",
   "cite_by": "apalike",
   "current_citInitial": 1,
   "eqLabelWithNumbers": true,
   "eqNumInitial": 1,
   "hotkeys": {
    "equation": "Ctrl-E",
    "itemize": "Ctrl-I"
   },
   "labels_anchors": false,
   "latex_user_defs": false,
   "report_style_numbering": false,
   "user_envs_cfg": false
  },
  "toc": {
   "base_numbering": 1,
   "nav_menu": {},
   "number_sections": true,
   "sideBar": true,
   "skip_h1_title": false,
   "title_cell": "Table of Contents",
   "title_sidebar": "Contents",
   "toc_cell": false,
   "toc_position": {},
   "toc_section_display": true,
   "toc_window_display": true
  },
  "varInspector": {
   "cols": {
    "lenName": 16,
    "lenType": 16,
    "lenVar": 40
   },
   "kernels_config": {
    "python": {
     "delete_cmd_postfix": "",
     "delete_cmd_prefix": "del ",
     "library": "var_list.py",
     "varRefreshCmd": "print(var_dic_list())"
    },
    "r": {
     "delete_cmd_postfix": ") ",
     "delete_cmd_prefix": "rm(",
     "library": "var_list.r",
     "varRefreshCmd": "cat(var_dic_list()) "
    }
   },
   "types_to_exclude": [
    "module",
    "function",
    "builtin_function_or_method",
    "instance",
    "_Feature"
   ],
   "window_display": false
  }
 },
 "nbformat": 4,
 "nbformat_minor": 2
}
