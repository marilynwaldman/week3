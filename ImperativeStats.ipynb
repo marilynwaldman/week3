{
 "cells": [
  {
   "cell_type": "code",
   "execution_count": null,
   "metadata": {},
   "outputs": [],
   "source": [
    "import numpy as np\n",
    "import functools\n",
    "from functools import reduce\n",
    "from scipy.stats import kurtosis, skew\n",
    "import pandas as pd\n",
    "import seaborn as sns\n",
    "import matplotlib.pyplot as plt\n",
    "from scipy import stats"
   ]
  },
  {
   "cell_type": "markdown",
   "metadata": {},
   "source": [
    "# Statistics with Imperative Programming"
   ]
  },
  {
   "cell_type": "markdown",
   "metadata": {},
   "source": [
    "In this exercise we will use imperative programming with Python to compute from a list of  N integers:\n",
    "\n",
    "   - The mean - the first moment\n",
    "   \n",
    "   $\\mu = \\frac{1}{N} \\sum_{i=1}^N x_i.$\n",
    "        \n",
    "        \n",
    "  \n",
    "   - The standard deviation - second moment\n",
    "  \n",
    "   $\\sigma = \\sqrt{\\frac{1}{N} \\sum_{i=1}^N (x_i - \\mu)^2}$\n",
    "        \n",
    "        \n",
    "        \n",
    "   - The skew  - the third moment\n",
    "   \n",
    "   $\\gamma_1 = \\frac{1}{N} \\sum_{i=1}^N \\left[\\frac{x_i - \\mu}{\\sigma}\\right]^3$\n",
    "        \n",
    "        \n",
    "        \n",
    "   - The kurtosis - the fourth moment\n",
    "  \n",
    "   $\\gamma_2 = \\Big\\{   \\frac{1}{N} \\sum_{i=1}^N \\left[\\frac{x_i - \\mu}{\\sigma}\\right]^4  \\Big\\} - 3$\n",
    "        "
   ]
  },
  {
   "cell_type": "code",
   "execution_count": null,
   "metadata": {},
   "outputs": [],
   "source": [
    "def test_assert():\n",
    "    \"\"\"Test that assert is working.\n",
    "\n",
    "    Args:\n",
    "        None\n",
    "    Returns:\n",
    "        x with value 5\n",
    "    \"\"\"\n",
    "    x = 5\n",
    "    assert x == 5\n",
    "    return x\n",
    "    \n",
    "y = test_assert() \n",
    "assert y == 5"
   ]
  },
  {
   "cell_type": "markdown",
   "metadata": {},
   "source": [
    "# Define test data set X"
   ]
  },
  {
   "cell_type": "code",
   "execution_count": null,
   "metadata": {},
   "outputs": [],
   "source": [
    "# Python variables can be capital letters\n",
    "np.random.seed(5)\n",
    "X = np.random.normal(size=100)\n",
    "sns.set(color_codes=True)\n",
    "sns.distplot(X)\n",
    "print(X)\n"
   ]
  },
  {
   "cell_type": "markdown",
   "metadata": {},
   "source": [
    "# First Moment - the MEAN"
   ]
  },
  {
   "cell_type": "markdown",
   "metadata": {},
   "source": [
    "### Define a function first_moment that computes the MEAN\n",
    "\n",
    " $\\mu = \\frac{1}{N} \\sum_{i=1}^N x_i.$"
   ]
  },
  {
   "cell_type": "code",
   "execution_count": null,
   "metadata": {
    "deletable": false,
    "nbgrader": {
     "checksum": "b8f6a926eaaf3f3421c6d105534de37c",
     "grade": false,
     "grade_id": "cell-d635eb21895c8eb3",
     "locked": false,
     "schema_version": 1,
     "solution": true
    }
   },
   "outputs": [],
   "source": [
    "def first_moment(list):\n",
    "    \"\"\"Compute the first moment - the mean.\n",
    "\n",
    "    Args:\n",
    "        list of integers of size n\n",
    "    Returns:\n",
    "        mean of the list\n",
    "    \"\"\"\n",
    "    # YOUR CODE HERE\n",
    "    raise NotImplementedError()\n",
    "    \n"
   ]
  },
  {
   "cell_type": "code",
   "execution_count": null,
   "metadata": {
    "deletable": false,
    "editable": false,
    "nbgrader": {
     "checksum": "47e63072a96e96a4f350f8eea2f4ba67",
     "grade": true,
     "grade_id": "cell-51fba0cc53017b71",
     "locked": true,
     "points": 10,
     "schema_version": 1,
     "solution": false
    }
   },
   "outputs": [],
   "source": [
    "l = [1,2]\n",
    "mu = first_moment(l)\n",
    "print(mu)\n",
    "\n",
    "assert mu == 1.5"
   ]
  },
  {
   "cell_type": "markdown",
   "metadata": {},
   "source": [
    "Make sure the empty list runs - N=0"
   ]
  },
  {
   "cell_type": "code",
   "execution_count": null,
   "metadata": {
    "deletable": false,
    "nbgrader": {
     "checksum": "bb2b180f195c8e62dda7ac9c37dc2269",
     "grade": false,
     "grade_id": "cell-17b978abc6e44f16",
     "locked": false,
     "schema_version": 1,
     "solution": true
    }
   },
   "outputs": [],
   "source": [
    "# YOUR CODE HERE\n",
    "raise NotImplementedError()"
   ]
  },
  {
   "cell_type": "code",
   "execution_count": null,
   "metadata": {
    "deletable": false,
    "editable": false,
    "nbgrader": {
     "checksum": "7836ee193ae849d36a12214d207cf0ab",
     "grade": true,
     "grade_id": "cell-6634b61a65662b64",
     "locked": true,
     "points": 5,
     "schema_version": 1,
     "solution": false
    }
   },
   "outputs": [],
   "source": [
    "assert mu_empty == 0.0"
   ]
  },
  {
   "cell_type": "markdown",
   "metadata": {},
   "source": [
    "# Second Moment - Standard Deviation"
   ]
  },
  {
   "cell_type": "markdown",
   "metadata": {},
   "source": [
    "### Define a function second_moment that computes the Standard Deviation\n",
    "\n",
    "\n",
    "   $\\sigma = \\sqrt{\\frac{1}{N} \\sum_{i=1}^N (x_i - \\mu)^2}$\n",
    "   \n",
    "    \n",
    "   N = len(list)\n",
    "   \n",
    "   $\\mu$ is the mean\n",
    "   \n",
    "   \n",
    "##### Note:  Use Numpy for the square root  - \n",
    "\n",
    "      np.sqrt(x)\n",
    " "
   ]
  },
  {
   "cell_type": "code",
   "execution_count": null,
   "metadata": {
    "deletable": false,
    "nbgrader": {
     "checksum": "4bffe34f2d76ae8f10efce43d6590568",
     "grade": false,
     "grade_id": "cell-7ad765bfd27b5d20",
     "locked": false,
     "schema_version": 1,
     "solution": true
    }
   },
   "outputs": [],
   "source": [
    "import numpy as np\n",
    "def second_moment(list, mu):\n",
    "    \"\"\"Compute the second moment - the variance.\n",
    "\n",
    "    Args:\n",
    "        list of integers of size n\n",
    "        mean - mean of the list\n",
    "    Returns:\n",
    "        second moment about the mean - the standard deviation\n",
    "    \"\"\"\n",
    "    # YOUR CODE HERE\n",
    "    raise NotImplementedError()\n",
    "    \n",
    "    "
   ]
  },
  {
   "cell_type": "code",
   "execution_count": null,
   "metadata": {
    "deletable": false,
    "editable": false,
    "nbgrader": {
     "checksum": "db65754c7a781b9e77cfa30337d32aa2",
     "grade": true,
     "grade_id": "cell-4490901cabe1c650",
     "locked": true,
     "points": 10,
     "schema_version": 1,
     "solution": false
    }
   },
   "outputs": [],
   "source": [
    "l = [1 , 2]\n",
    "mu = first_moment(l)\n",
    "sigma = second_moment(l, mu)\n",
    "assert sigma == 0.5\n",
    "print(sigma)"
   ]
  },
  {
   "cell_type": "markdown",
   "metadata": {},
   "source": [
    "# Third Moment - the Skew"
   ]
  },
  {
   "cell_type": "markdown",
   "metadata": {},
   "source": [
    "### Define a function, third_moment, that computes the Skew\n",
    "\n",
    "\n",
    "   \n",
    "   $\\gamma_1 = \\frac{1}{N} \\sum_{i=1}^N \\left[\\frac{x_i - \\mu}{\\sigma}\\right]^3$\n",
    "   \n",
    "   \n",
    "  \n",
    "   \n",
    "   N = len(list)\n",
    "   \n",
    "   $\\mu$ is the mean\n",
    "   \n",
    "   $\\sigma$ is the standard deviation\n",
    "   \n",
    "   \n",
    " "
   ]
  },
  {
   "cell_type": "code",
   "execution_count": null,
   "metadata": {
    "deletable": false,
    "nbgrader": {
     "checksum": "f925335ff1e0ebb05818439752366ace",
     "grade": false,
     "grade_id": "cell-1b7ec68c9705b5fa",
     "locked": false,
     "schema_version": 1,
     "solution": true
    }
   },
   "outputs": [],
   "source": [
    "import numpy as np\n",
    "def third_moment(list, mu, sigma):\n",
    "    \"\"\"Compute the third moment - the skew.\n",
    "\n",
    "    Args:\n",
    "        list of integers of size n\n",
    "        mu - mean  of the list\n",
    "        sigma - standard deviation of the list\n",
    "    Returns:\n",
    "        third moment about the mean - the skew\n",
    "    \"\"\"\n",
    "    # YOUR CODE HERE\n",
    "    raise NotImplementedError()\n",
    "    \n"
   ]
  },
  {
   "cell_type": "code",
   "execution_count": null,
   "metadata": {
    "deletable": false,
    "editable": false,
    "nbgrader": {
     "checksum": "426103289aa68e3969e74a490b6a5bed",
     "grade": true,
     "grade_id": "cell-1b01c15becd0529f",
     "locked": true,
     "points": 10,
     "schema_version": 1,
     "solution": false
    }
   },
   "outputs": [],
   "source": [
    "    \n",
    "l = [1 , 2]\n",
    "mu = first_moment(l)\n",
    "sigma = second_moment(l, mu)\n",
    "gamma_1 = third_moment(l, mu, sigma)\n",
    "print(gamma_1)\n",
    "\n",
    "assert gamma_1 == 0.0"
   ]
  },
  {
   "cell_type": "markdown",
   "metadata": {},
   "source": [
    "# Fourth Moment"
   ]
  },
  {
   "cell_type": "markdown",
   "metadata": {},
   "source": [
    "### Define a function, fourth_moment,  to compute the Kurtosis\n",
    "\n",
    "\n",
    "   \n",
    "   $\\gamma_2 = \\Big\\{   \\frac{1}{N} \\sum_{i=1}^N \\left[\\frac{x_i - \\mu}{\\sigma}\\right]^4  \\Big\\} - 3$\n",
    "   \n",
    "   \n",
    "  \n",
    "   \n",
    "   N = len(list)\n",
    "   \n",
    "   $\\mu$ is the mean\n",
    "   \n",
    "   $\\sigma$ is the standard deviation\n",
    "   "
   ]
  },
  {
   "cell_type": "code",
   "execution_count": null,
   "metadata": {
    "deletable": false,
    "nbgrader": {
     "checksum": "6489ef2e32efc7665ae3acc996a5e329",
     "grade": false,
     "grade_id": "cell-4dbec72aaba0c671",
     "locked": false,
     "schema_version": 1,
     "solution": true
    }
   },
   "outputs": [],
   "source": [
    "import numpy as np\n",
    "def fourth_moment(list, mu, sigma):\n",
    "    \"\"\"Compute the fourth moment - the kurtosis.\n",
    "\n",
    "    Args:\n",
    "        list of integers of size n\n",
    "        mu - mean of the list\n",
    "        sigma - standard deviation of the list\n",
    "    Returns:\n",
    "        fourth moment about the mean - the skew\n",
    "    \"\"\"\n",
    "    # YOUR CODE HERE\n",
    "    raise NotImplementedError()\n",
    "    \n"
   ]
  },
  {
   "cell_type": "code",
   "execution_count": null,
   "metadata": {
    "deletable": false,
    "editable": false,
    "nbgrader": {
     "checksum": "93ad45913aa32da4a23930ceface7e2f",
     "grade": true,
     "grade_id": "cell-6e112b6609db7d58",
     "locked": true,
     "points": 10,
     "schema_version": 1,
     "solution": false
    }
   },
   "outputs": [],
   "source": [
    "l = [1 , 2]\n",
    "gamma_2 = third_moment(l, mu, sigma)\n",
    "print(gamma_2)\n",
    "\n",
    "assert gamma_2 == 0"
   ]
  },
  {
   "cell_type": "markdown",
   "metadata": {},
   "source": [
    "### Sanity Check - compare with NUMPY"
   ]
  },
  {
   "cell_type": "code",
   "execution_count": null,
   "metadata": {},
   "outputs": [],
   "source": [
    "from scipy.stats import kurtosis, skew\n",
    "a = np.array([0,1,2,3,88,89,90,91])\n",
    "print(np.mean(a))\n",
    "print(np.std(a))\n",
    "print(skew(a))\n",
    "print(kurtosis(a))\n"
   ]
  },
  {
   "cell_type": "code",
   "execution_count": null,
   "metadata": {},
   "outputs": [],
   "source": [
    "list1 = [0,1,2,3,88,89,90,91]\n",
    "mu = first_moment(list1)\n",
    "sigma = second_moment(list1, mu)\n",
    "gamma_1 = third_moment(list1, mu, sigma)\n",
    "gamma_2 = fourth_moment(list1, mu, sigma)\n",
    "\n",
    "print(mu)\n",
    "print(sigma)\n",
    "print(gamma_1)\n",
    "print(gamma_2)"
   ]
  },
  {
   "cell_type": "code",
   "execution_count": null,
   "metadata": {},
   "outputs": [],
   "source": [
    "print(np.finfo(np.float32).eps)\n",
    "print(np.finfo(np.float).eps)"
   ]
  },
  {
   "cell_type": "code",
   "execution_count": null,
   "metadata": {
    "deletable": false,
    "editable": false,
    "nbgrader": {
     "checksum": "72f25c189af9082afd7f230e6871e0e3",
     "grade": true,
     "grade_id": "cell-3012ff4e0398ad4a",
     "locked": true,
     "points": 10,
     "schema_version": 1,
     "solution": false
    }
   },
   "outputs": [],
   "source": [
    "from scipy.stats import kurtosis \n",
    "from scipy.stats import skew \n",
    "assert mu - np.mean(a) <= np.finfo(np.float).eps\n",
    "assert sigma - np.std(a) <= np.finfo(np.float).eps\n",
    "assert gamma_1 - skew(a) <= np.finfo(np.float32).eps\n",
    "assert gamma_2 - kurtosis(a) <= np.finfo(np.float32).eps\n"
   ]
  },
  {
   "cell_type": "markdown",
   "metadata": {},
   "source": [
    "# Compute Stats for X"
   ]
  },
  {
   "cell_type": "code",
   "execution_count": null,
   "metadata": {},
   "outputs": [],
   "source": [
    "mu = first_moment(X)\n",
    "print(mu)\n",
    "sigma = second_moment(X, mu)\n",
    "print(sigma)\n",
    "gamma_1 = third_moment(X, mu, sigma)\n",
    "print(gamma_1)\n",
    "gamma_2 = fourth_moment(X, mu, sigma)\n",
    "print(gamma_2)\n"
   ]
  },
  {
   "cell_type": "code",
   "execution_count": null,
   "metadata": {
    "deletable": false,
    "editable": false,
    "nbgrader": {
     "checksum": "5bf00a29daf55a79594cd362c86d852c",
     "grade": true,
     "grade_id": "cell-7ee94dabad2c2f5f",
     "locked": true,
     "points": 10,
     "schema_version": 1,
     "solution": false
    }
   },
   "outputs": [],
   "source": [
    "a = np.array(list(X))\n",
    "assert mu - np.mean(a) <= np.finfo(np.float).eps\n",
    "assert sigma - np.std(a) <= np.finfo(np.float).eps\n",
    "assert gamma_1 - skew(a) <= np.finfo(np.float).eps\n",
    "assert gamma_2 - kurtosis(a) <= np.finfo(np.float32).eps\n",
    "print(\"Congratulations you passed\")"
   ]
  },
  {
   "cell_type": "code",
   "execution_count": null,
   "metadata": {},
   "outputs": [],
   "source": []
  }
 ],
 "metadata": {
  "kernelspec": {
   "display_name": "Python 3",
   "language": "python",
   "name": "python3"
  },
  "language_info": {
   "codemirror_mode": {
    "name": "ipython",
    "version": 3
   },
   "file_extension": ".py",
   "mimetype": "text/x-python",
   "name": "python",
   "nbconvert_exporter": "python",
   "pygments_lexer": "ipython3",
   "version": "3.6.7"
  },
  "latex_envs": {
   "LaTeX_envs_menu_present": true,
   "autoclose": false,
   "autocomplete": true,
   "bibliofile": "biblio.bib",
   "cite_by": "apalike",
   "current_citInitial": 1,
   "eqLabelWithNumbers": true,
   "eqNumInitial": 1,
   "hotkeys": {
    "equation": "Ctrl-E",
    "itemize": "Ctrl-I"
   },
   "labels_anchors": false,
   "latex_user_defs": false,
   "report_style_numbering": false,
   "user_envs_cfg": false
  },
  "toc": {
   "base_numbering": 1,
   "nav_menu": {},
   "number_sections": true,
   "sideBar": true,
   "skip_h1_title": false,
   "title_cell": "Table of Contents",
   "title_sidebar": "Contents",
   "toc_cell": false,
   "toc_position": {},
   "toc_section_display": true,
   "toc_window_display": true
  },
  "varInspector": {
   "cols": {
    "lenName": 16,
    "lenType": 16,
    "lenVar": 40
   },
   "kernels_config": {
    "python": {
     "delete_cmd_postfix": "",
     "delete_cmd_prefix": "del ",
     "library": "var_list.py",
     "varRefreshCmd": "print(var_dic_list())"
    },
    "r": {
     "delete_cmd_postfix": ") ",
     "delete_cmd_prefix": "rm(",
     "library": "var_list.r",
     "varRefreshCmd": "cat(var_dic_list()) "
    }
   },
   "types_to_exclude": [
    "module",
    "function",
    "builtin_function_or_method",
    "instance",
    "_Feature"
   ],
   "window_display": false
  }
 },
 "nbformat": 4,
 "nbformat_minor": 2
}
