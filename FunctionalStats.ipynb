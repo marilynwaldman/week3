{
 "cells": [
  {
   "cell_type": "code",
   "execution_count": null,
   "metadata": {},
   "outputs": [],
   "source": [
    "import numpy as np\n",
    "import functools\n",
    "from functools import reduce\n",
    "from scipy.stats import kurtosis, skew\n",
    "import pandas as pd\n",
    "import seaborn as sns\n",
    "import matplotlib.pyplot as plt\n",
    "from scipy import stats"
   ]
  },
  {
   "cell_type": "markdown",
   "metadata": {},
   "source": [
    "# Statistics with Functional Programming"
   ]
  },
  {
   "cell_type": "markdown",
   "metadata": {},
   "source": [
    "In this exercise we will use imperative programming with Python to compute from a list of  N integers:\n",
    "\n",
    "   - The mean - the first moment\n",
    "   \n",
    "   $\\mu = \\frac{1}{N} \\sum_{i=1}^N x_i.$\n",
    "        \n",
    "        \n",
    "  \n",
    "   - The standard deviation - second moment\n",
    "  \n",
    "   $\\sigma = \\sqrt{\\frac{1}{N} \\sum_{i=1}^N (x_i - \\mu)^2}$\n",
    "        \n",
    "        \n",
    "        \n",
    "   - The skew  - the third moment\n",
    "   \n",
    "   $\\gamma_1 = \\frac{1}{N} \\sum_{i=1}^N \\left[\\frac{x_i - \\mu}{\\sigma}\\right]^3$\n",
    "        \n",
    "        \n",
    "        \n",
    "   - The kurtosis - the fourth moment\n",
    "  \n",
    "   $\\gamma_2 = \\Big\\{   \\frac{1}{N} \\sum_{i=1}^N \\left[\\frac{x_i - \\mu}{\\sigma}\\right]^4  \\Big\\} - 3$\n",
    "    "
   ]
  },
  {
   "cell_type": "code",
   "execution_count": null,
   "metadata": {},
   "outputs": [],
   "source": [
    "def test_assert():\n",
    "    \"\"\"Test that assert is working.\n",
    "\n",
    "    Args:\n",
    "        None\n",
    "    Returns:\n",
    "        x with value 5\n",
    "    \"\"\"\n",
    "    x = 5\n",
    "    assert x == 5\n",
    "    return x\n",
    "    \n",
    "y = test_assert() \n",
    "assert y == 5"
   ]
  },
  {
   "cell_type": "markdown",
   "metadata": {},
   "source": [
    "# Define test data set X"
   ]
  },
  {
   "cell_type": "code",
   "execution_count": null,
   "metadata": {},
   "outputs": [],
   "source": [
    "np.random.seed(5)\n",
    "X = np.random.normal(size=100)\n",
    "sns.set(color_codes=True)\n",
    "sns.distplot(X)\n",
    "print(X)\n"
   ]
  },
  {
   "cell_type": "markdown",
   "metadata": {},
   "source": [
    "# First Moment"
   ]
  },
  {
   "cell_type": "markdown",
   "metadata": {},
   "source": [
    "### Define a function, first_moment_term, to  compute the MEAN\n",
    "\n",
    " $\\mu = \\frac{1}{N} \\sum_{i=1}^N x_i.$\n",
    " \n",
    " We will:\n",
    " \n",
    " 1.  Map each term of the list to the correct moment\n",
    " 2.  Sum the transformed elements over N\n",
    " "
   ]
  },
  {
   "cell_type": "markdown",
   "metadata": {},
   "source": [
    "####  Define the transformation for the first moment terms \n",
    "    hint - it is the identity "
   ]
  },
  {
   "cell_type": "code",
   "execution_count": null,
   "metadata": {
    "deletable": false,
    "nbgrader": {
     "checksum": "85ce284808649f140b1b2901e5bf116c",
     "grade": false,
     "grade_id": "cell-28bfdfc236ed5341",
     "locked": false,
     "schema_version": 1,
     "solution": true
    }
   },
   "outputs": [],
   "source": [
    "def first_moment_term(x):\n",
    "    \"\"\"Define the first moment term\n",
    "\n",
    "    Args:\n",
    "        x - An element of a list - a term\n",
    "    Returns:\n",
    "        transformed term - an identity in this case, x\n",
    "    \"\"\"\n",
    "    # YOUR CODE HERE\n",
    "    raise NotImplementedError()\n",
    "    \n"
   ]
  },
  {
   "cell_type": "code",
   "execution_count": null,
   "metadata": {
    "deletable": false,
    "editable": false,
    "nbgrader": {
     "checksum": "552f1cb25114569713ed0978b95a5de3",
     "grade": true,
     "grade_id": "cell-87d4a0cf5b53adca",
     "locked": true,
     "points": 10,
     "schema_version": 1,
     "solution": false
    }
   },
   "outputs": [],
   "source": [
    "x = 1\n",
    "\n",
    "new_term = first_moment_term(x)\n",
    "\n",
    "print(new_term)\n",
    "\n",
    "assert new_term == 1"
   ]
  },
  {
   "cell_type": "code",
   "execution_count": null,
   "metadata": {
    "deletable": false,
    "nbgrader": {
     "checksum": "0c7bb0513b053c7444fbc1cde17d9fb5",
     "grade": false,
     "grade_id": "cell-8bc1d1d51a9571f8",
     "locked": false,
     "schema_version": 1,
     "solution": true
    }
   },
   "outputs": [],
   "source": [
    "def my_mean(my_list):\n",
    "    \"\"\"Define the first moment term\n",
    "\n",
    "    Args:\n",
    "        my_list - a list of integers\n",
    "        \n",
    "    Returns:\n",
    "        the mean of the list\n",
    "    \"\"\"\n",
    "    # YOUR CODE HERE\n",
    "    raise NotImplementedError()\n",
    "    "
   ]
  },
  {
   "cell_type": "code",
   "execution_count": null,
   "metadata": {
    "deletable": false,
    "editable": false,
    "nbgrader": {
     "checksum": "0b80244abb21cc7f5a174c3723460512",
     "grade": true,
     "grade_id": "cell-e29348aaca8d7264",
     "locked": true,
     "points": 10,
     "schema_version": 1,
     "solution": false
    }
   },
   "outputs": [],
   "source": [
    "#unit test\n",
    "test_list = [1,2,3] \n",
    "mu = my_mean(test_list)\n",
    "print(mu)\n",
    "a = np.array([1,2,3])\n",
    "assert mu == np.mean(a)"
   ]
  },
  {
   "cell_type": "markdown",
   "metadata": {},
   "source": [
    "# Second Moment"
   ]
  },
  {
   "cell_type": "markdown",
   "metadata": {},
   "source": [
    "### Define a function, second_moment_term, to compute the standard deviation\n",
    "\n",
    "$\\sigma = \\sqrt{\\frac{1}{N} \\sum_{i=1}^N (x_i - \\mu)^2}$\n",
    " \n",
    " We will:\n",
    " \n",
    " 1.  Map each term of the list to the correct moment\n",
    " 2.  Sum the transformed elements over N\n",
    " \n",
    " \n"
   ]
  },
  {
   "cell_type": "markdown",
   "metadata": {},
   "source": [
    "####  Define the transformation for the first moment terms \n",
    "\n",
    "$(x_i - \\mu)^2$\n",
    "   "
   ]
  },
  {
   "cell_type": "code",
   "execution_count": null,
   "metadata": {
    "deletable": false,
    "nbgrader": {
     "checksum": "e6ebdf219d677f898342461623906dad",
     "grade": false,
     "grade_id": "cell-36c2bccf0cdc5e1e",
     "locked": false,
     "schema_version": 1,
     "solution": true
    }
   },
   "outputs": [],
   "source": [
    "def second_moment_term(x, mu):\n",
    "    \"\"\"Define the first moment term\n",
    "\n",
    "    Args:\n",
    "        x - An element of a list - a term\n",
    "        mu - the mean\n",
    "    Returns:\n",
    "        transformed term - an identity in this case, (x - mu)**2\n",
    "    \"\"\"\n",
    "    # YOUR CODE HERE\n",
    "    raise NotImplementedError()\n",
    "  "
   ]
  },
  {
   "cell_type": "code",
   "execution_count": null,
   "metadata": {
    "deletable": false,
    "editable": false,
    "nbgrader": {
     "checksum": "93152b72379624746382d42e9463e748",
     "grade": true,
     "grade_id": "cell-643b48e193aa2742",
     "locked": true,
     "points": 10,
     "schema_version": 1,
     "solution": false
    }
   },
   "outputs": [],
   "source": [
    "val = 5\n",
    "mu = 3\n",
    "term = second_moment_term(x, mu)\n",
    "assert term == 4\n"
   ]
  },
  {
   "cell_type": "markdown",
   "metadata": {},
   "source": [
    "### Transform and reduce to get the standard deviation\n",
    "\n",
    "\n",
    "   $\\sigma = \\sqrt{\\frac{1}{N} \\sum_{i=1}^N (x_i - \\mu)^2}$\n",
    "   \n",
    "    \n",
    "   N = len(list)\n",
    "   \n",
    "   $\\mu$ is the mean\n",
    "   \n",
    "   \n",
    "##### Note:  Use Numpy for the square root  - \n",
    "\n",
    "      np.sqrt(x)\n",
    " "
   ]
  },
  {
   "cell_type": "code",
   "execution_count": null,
   "metadata": {
    "deletable": false,
    "nbgrader": {
     "checksum": "2a0fd7365c34e6e30f0bba52d687cf13",
     "grade": false,
     "grade_id": "cell-dbc8fbf2597f32bf",
     "locked": false,
     "schema_version": 1,
     "solution": true
    }
   },
   "outputs": [],
   "source": [
    "def my_stdev(my_list, mu):\n",
    "    \"\"\"Define the first moment term\n",
    "\n",
    "    Args:\n",
    "        my_list - a list of integers\n",
    "        mu - the mean of the list\n",
    "        \n",
    "    Returns:\n",
    "        the standard deviation of the list\n",
    "    \"\"\"\n",
    "    # YOUR CODE HERE\n",
    "    raise NotImplementedError()\n",
    "    "
   ]
  },
  {
   "cell_type": "code",
   "execution_count": null,
   "metadata": {
    "deletable": false,
    "editable": false,
    "nbgrader": {
     "checksum": "3578aabcb0e605c7277a7b200dd6ef54",
     "grade": true,
     "grade_id": "cell-f1f8efeff09c7446",
     "locked": true,
     "points": 10,
     "schema_version": 1,
     "solution": false
    }
   },
   "outputs": [],
   "source": [
    "test_list = [1,2,3] \n",
    "mu = my_mean(test_list)\n",
    "print(mu)\n",
    "sigma = my_stdev(test_list, mu)\n",
    "print(sigma)\n",
    "a = np.array([1,2,3])\n",
    "assert mu == np.mean(a)\n",
    "assert sigma == np.std(a)\n",
    "print(np.std(a))"
   ]
  },
  {
   "cell_type": "markdown",
   "metadata": {},
   "source": [
    "# Third Moment\n",
    "\n"
   ]
  },
  {
   "cell_type": "markdown",
   "metadata": {},
   "source": [
    "## Define a function, third_moment_term, to compute the Skew\n",
    "\n",
    "$\\gamma_1 = \\frac{1}{N} \\sum_{i=1}^N \\left[\\frac{x_i - \\mu}{\\sigma}\\right]^3$\n",
    "\n",
    "We will:\n",
    "\n",
    "Map each term of the list to the correct moment\n",
    "Sum the transformed elements over N\n"
   ]
  },
  {
   "cell_type": "code",
   "execution_count": null,
   "metadata": {
    "deletable": false,
    "nbgrader": {
     "checksum": "d03a739d1424a9e5b216dc47c9027be4",
     "grade": false,
     "grade_id": "cell-e64bb8c186f0a559",
     "locked": false,
     "schema_version": 1,
     "solution": true
    }
   },
   "outputs": [],
   "source": [
    "def third_moment_term(x, mu, sigma):\n",
    "    \"\"\"Define the third moment term\n",
    "\n",
    "    Args:\n",
    "        x - An element of a list - a term\n",
    "        mu - the mean\n",
    "        sigma - the standard deviation\n",
    "    Returns:\n",
    "        transformed term - an identity in this case, ((x - mu)/sigma)**3\n",
    "    \"\"\"\n",
    "    # YOUR CODE HERE\n",
    "    raise NotImplementedError()\n",
    "  "
   ]
  },
  {
   "cell_type": "code",
   "execution_count": null,
   "metadata": {
    "deletable": false,
    "editable": false,
    "nbgrader": {
     "checksum": "caa4e846b69aed0bb857be64363fdd39",
     "grade": true,
     "grade_id": "cell-dca148de3b9ba00b",
     "locked": true,
     "points": 10,
     "schema_version": 1,
     "solution": false
    }
   },
   "outputs": [],
   "source": [
    "x = 5\n",
    "mu = 3\n",
    "sigma = 1\n",
    "gamma_1 = third_moment_term(x, mu, sigma)\n",
    "assert gamma_1 == 8"
   ]
  },
  {
   "cell_type": "markdown",
   "metadata": {},
   "source": [
    "### Transform and reduce to obtain the skew\n",
    "\n",
    "\n",
    "   $\\gamma_1 = \\frac{1}{N} \\sum_{i=1}^N \\left[\\frac{x_i - \\mu}{\\sigma}\\right]^3$\n",
    "   \n",
    "    \n",
    "   N = len(list)\n",
    "   \n",
    "   $\\mu$ is the mean\n",
    "   \n",
    "   \n",
    "   $\\sigma$ is the standard deviation\n",
    "   \n",
    "   \n",
    "\n",
    " "
   ]
  },
  {
   "cell_type": "code",
   "execution_count": null,
   "metadata": {
    "deletable": false,
    "nbgrader": {
     "checksum": "7b759c042dcf13304df63ee691287053",
     "grade": false,
     "grade_id": "cell-7464ccb7a0b68bed",
     "locked": false,
     "schema_version": 1,
     "solution": true
    }
   },
   "outputs": [],
   "source": [
    "def my_skew(my_list, mu, sigma):\n",
    "    \"\"\"Compute the third moment, the skew\n",
    "\n",
    "    Args:\n",
    "        my_list - a list of integers\n",
    "        mu - the mean of the list\n",
    "        sigma - the standard deviation\n",
    "        \n",
    "    Returns:\n",
    "        the skew of the list\n",
    "    \"\"\"\n",
    "    # YOUR CODE HERE\n",
    "    raise NotImplementedError()\n",
    "    "
   ]
  },
  {
   "cell_type": "code",
   "execution_count": null,
   "metadata": {
    "deletable": false,
    "editable": false,
    "nbgrader": {
     "checksum": "0accc315e1f8100a372ec8802ed69b60",
     "grade": true,
     "grade_id": "cell-e236269fcf6cac89",
     "locked": true,
     "points": 10,
     "schema_version": 1,
     "solution": false
    }
   },
   "outputs": [],
   "source": [
    "test_list = [1,2,3] \n",
    "mu = my_mean(test_list)\n",
    "print(mu)\n",
    "sigma = my_stdev(test_list, mu)\n",
    "print(sigma)\n",
    "gamma_1 = my_skew(test_list, mu, sigma)\n",
    "print(gamma_1)\n",
    "a = np.array([1,2,3])\n",
    "assert mu == np.mean(a)\n",
    "assert sigma == np.std(a)\n",
    "assert gamma_1 == skew(a)\n",
    "print(skew(a))"
   ]
  },
  {
   "cell_type": "markdown",
   "metadata": {},
   "source": [
    "# Fourth Moment"
   ]
  },
  {
   "cell_type": "markdown",
   "metadata": {},
   "source": [
    "## Define a function, fourth_moment_term, to compute the kurtosis\n",
    "\n",
    "$\\gamma_2 = \\Big\\{   \\frac{1}{N} \\sum_{i=1}^N \\left[\\frac{x_i - \\mu}{\\sigma}\\right]^4  \\Big\\} - 3$\n",
    "\n",
    "We will:\n",
    "\n",
    "Map each term of the list to the correct moment\n",
    "Sum the transformed elements over N"
   ]
  },
  {
   "cell_type": "code",
   "execution_count": null,
   "metadata": {
    "deletable": false,
    "nbgrader": {
     "checksum": "21eaf7c7accb70f33b5bf3460f340058",
     "grade": false,
     "grade_id": "cell-edd9d9b8ea0b9666",
     "locked": false,
     "schema_version": 1,
     "solution": true
    }
   },
   "outputs": [],
   "source": [
    "def fourth_moment_term(x, mu, sigma):\n",
    "    \"\"\"Define the fourth moment term\n",
    "\n",
    "    Args:\n",
    "        x - An element of a list - a term\n",
    "        mu - the mean\n",
    "        sigma - the standard deviation\n",
    "    Returns:\n",
    "        transformed term - an identity in this case, ((x - mu)/sigma)**4\n",
    "    \"\"\"\n",
    "    # YOUR CODE HERE\n",
    "    raise NotImplementedError()\n",
    "  "
   ]
  },
  {
   "cell_type": "code",
   "execution_count": null,
   "metadata": {
    "deletable": false,
    "editable": false,
    "nbgrader": {
     "checksum": "d84ea21807ef0e240a8e2a7777afc0a7",
     "grade": true,
     "grade_id": "cell-afb36679d5bf9073",
     "locked": true,
     "points": 10,
     "schema_version": 1,
     "solution": false
    }
   },
   "outputs": [],
   "source": [
    "x = 5\n",
    "mu = 3\n",
    "sigma = 1\n",
    "gamma = fourth_moment_term(x, mu, sigma)\n",
    "assert gamma == 16"
   ]
  },
  {
   "cell_type": "markdown",
   "metadata": {},
   "source": [
    " ### Transform and reduce to obtain the kurtosis\n",
    "\n",
    "   $\\gamma_2 = \\Big\\{   \\frac{1}{N} \\sum_{i=1}^N \\left[\\frac{x_i - \\mu}{\\sigma}\\right]^4  \\Big\\} - 3$\n",
    "\n",
    "    \n",
    "   N = len(list)\n",
    "   \n",
    "   $\\mu$ is the mean\n",
    "   \n",
    "   \n",
    "   $\\sigma$ is the standard deviation\n",
    "   "
   ]
  },
  {
   "cell_type": "code",
   "execution_count": null,
   "metadata": {
    "deletable": false,
    "nbgrader": {
     "checksum": "7d88ff5a795f07fa74b5c77bf581f6cc",
     "grade": false,
     "grade_id": "cell-e9dc7d41dab9a86f",
     "locked": false,
     "schema_version": 1,
     "solution": true
    }
   },
   "outputs": [],
   "source": [
    "def my_kurtosis(my_list, mu, sigma):\n",
    "    \"\"\"Define the fourth moment, the kurtosis\n",
    "\n",
    "    Args:\n",
    "        my_list - a list of integers\n",
    "        mu - the mean of the list\n",
    "        sigma - the standard deviation\n",
    "        \n",
    "    Returns:\n",
    "        the skew of the list\n",
    "    \"\"\"\n",
    "    # YOUR CODE HERE\n",
    "    raise NotImplementedError()\n",
    "    "
   ]
  },
  {
   "cell_type": "code",
   "execution_count": null,
   "metadata": {
    "deletable": false,
    "editable": false,
    "nbgrader": {
     "checksum": "b613b538518cac70653b5cb9da8fbb37",
     "grade": true,
     "grade_id": "cell-ba6f2d63f0104426",
     "locked": true,
     "points": 10,
     "schema_version": 1,
     "solution": false
    }
   },
   "outputs": [],
   "source": [
    "test_list = [1,2,3] \n",
    "mu = my_mean(test_list)\n",
    "print(mu)\n",
    "sigma = my_stdev(test_list, mu)\n",
    "print(sigma)\n",
    "gamma_1 = my_skew(test_list, mu, sigma)\n",
    "print(gamma_1)\n",
    "gamma_2 = my_kurtosis(test_list, mu, sigma)\n",
    "print(gamma_2)\n",
    "a = np.array([1,2,3])\n",
    "assert mu == np.mean(a)\n",
    "assert sigma == np.std(a)\n",
    "assert gamma_1 == skew(a)\n",
    "\n",
    "assert gamma_2 - kurtosis(a) < np.finfo(np.float32).eps\n",
    "#assert test_kurtosis == kurtosis(a)\n"
   ]
  },
  {
   "cell_type": "markdown",
   "metadata": {},
   "source": [
    "### Sanity Check - compare with NUMPY"
   ]
  },
  {
   "cell_type": "code",
   "execution_count": null,
   "metadata": {},
   "outputs": [],
   "source": [
    "from scipy.stats import kurtosis, skew\n",
    "a = np.array([0,1,2,3,88,89,90,91])\n",
    "print(np.mean(a))\n",
    "print(np.std(a))\n",
    "print(skew(a))\n",
    "print(kurtosis(a))\n"
   ]
  },
  {
   "cell_type": "code",
   "execution_count": null,
   "metadata": {},
   "outputs": [],
   "source": [
    "list1 = [0,1,2,3,88,89,90,91]\n",
    "#sns.distplot(list1)\n",
    "mu = my_mean(list1)\n",
    "print(mu)\n",
    "sigma = my_stdev(list1, mu)\n",
    "print(sigma)\n",
    "gamma_1 = my_skew(list1, mu, sigma)\n",
    "gamma_2 = my_kurtosis(list1, mu, sigma)\n",
    "\n",
    "print(mu)\n",
    "print(sigma)\n",
    "print(gamma_1)\n",
    "print(gamma_2)"
   ]
  },
  {
   "cell_type": "code",
   "execution_count": null,
   "metadata": {},
   "outputs": [],
   "source": [
    "print(np.finfo(np.float32).eps)\n",
    "print(np.finfo(np.float).eps)"
   ]
  },
  {
   "cell_type": "code",
   "execution_count": null,
   "metadata": {
    "deletable": false,
    "editable": false,
    "nbgrader": {
     "checksum": "1a55324690fba94d23958601815b6881",
     "grade": true,
     "grade_id": "cell-3479bc0c3a860bc2",
     "locked": true,
     "points": 10,
     "schema_version": 1,
     "solution": false
    }
   },
   "outputs": [],
   "source": [
    "from scipy.stats import kurtosis \n",
    "from scipy.stats import skew \n",
    "a = np.array([0,1,2,3,88,89,90,91])\n",
    "assert mu - np.mean(a) < np.finfo(np.float).eps\n",
    "assert sigma - np.std(a) < np.finfo(np.float).eps\n",
    "assert gamma_1 - skew(a) < np.finfo(np.float).eps\n",
    "assert gamma_2 - kurtosis(a) < np.finfo(np.float32).eps\n",
    "#assert my_kurtosis1 - kurtosis(a) < np.finfo(np.float).eps"
   ]
  },
  {
   "cell_type": "markdown",
   "metadata": {},
   "source": [
    "# Compute Stats for X "
   ]
  },
  {
   "cell_type": "code",
   "execution_count": null,
   "metadata": {},
   "outputs": [],
   "source": [
    "mu = my_mean(X)\n",
    "print(mu)\n",
    "sigma = my_stdev(X, mu)\n",
    "print(sigma)\n",
    "gamma_1 = my_skew(X, mu, sigma)\n",
    "print(gamma_1)\n",
    "gamma_2 = my_kurtosis(X, mu, sigma)\n",
    "print(gamma_2)\n"
   ]
  },
  {
   "cell_type": "code",
   "execution_count": null,
   "metadata": {
    "deletable": false,
    "editable": false,
    "nbgrader": {
     "checksum": "f254bc9e19232ce2e66ec81dc8934513",
     "grade": true,
     "grade_id": "cell-31e2d4a5521239e7",
     "locked": true,
     "points": 10,
     "schema_version": 1,
     "solution": false
    }
   },
   "outputs": [],
   "source": [
    "a = np.array(list(X))\n",
    "assert mu - np.mean(a) <= np.finfo(np.float).eps\n",
    "assert sigma - np.std(a) <= np.finfo(np.float).eps\n",
    "assert gamma_1 - skew(a) <= np.finfo(np.float).eps\n",
    "assert gamma_2 - kurtosis(a) <= np.finfo(np.float32).eps\n",
    "print(\"Congratulations you passed\")"
   ]
  },
  {
   "cell_type": "code",
   "execution_count": null,
   "metadata": {},
   "outputs": [],
   "source": []
  }
 ],
 "metadata": {
  "kernelspec": {
   "display_name": "Python 3",
   "language": "python",
   "name": "python3"
  },
  "language_info": {
   "codemirror_mode": {
    "name": "ipython",
    "version": 3
   },
   "file_extension": ".py",
   "mimetype": "text/x-python",
   "name": "python",
   "nbconvert_exporter": "python",
   "pygments_lexer": "ipython3",
   "version": "3.6.7"
  },
  "latex_envs": {
   "LaTeX_envs_menu_present": true,
   "autoclose": false,
   "autocomplete": true,
   "bibliofile": "biblio.bib",
   "cite_by": "apalike",
   "current_citInitial": 1,
   "eqLabelWithNumbers": true,
   "eqNumInitial": 1,
   "hotkeys": {
    "equation": "Ctrl-E",
    "itemize": "Ctrl-I"
   },
   "labels_anchors": false,
   "latex_user_defs": false,
   "report_style_numbering": false,
   "user_envs_cfg": false
  },
  "toc": {
   "base_numbering": 1,
   "nav_menu": {},
   "number_sections": true,
   "sideBar": true,
   "skip_h1_title": false,
   "title_cell": "Table of Contents",
   "title_sidebar": "Contents",
   "toc_cell": false,
   "toc_position": {},
   "toc_section_display": true,
   "toc_window_display": true
  },
  "varInspector": {
   "cols": {
    "lenName": 16,
    "lenType": 16,
    "lenVar": 40
   },
   "kernels_config": {
    "python": {
     "delete_cmd_postfix": "",
     "delete_cmd_prefix": "del ",
     "library": "var_list.py",
     "varRefreshCmd": "print(var_dic_list())"
    },
    "r": {
     "delete_cmd_postfix": ") ",
     "delete_cmd_prefix": "rm(",
     "library": "var_list.r",
     "varRefreshCmd": "cat(var_dic_list()) "
    }
   },
   "types_to_exclude": [
    "module",
    "function",
    "builtin_function_or_method",
    "instance",
    "_Feature"
   ],
   "window_display": false
  }
 },
 "nbformat": 4,
 "nbformat_minor": 2
}
